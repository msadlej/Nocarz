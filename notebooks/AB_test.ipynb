{
 "cells": [
  {
   "cell_type": "markdown",
   "id": "4b5c883e",
   "metadata": {},
   "source": [
    "# IUM 25L - Projekt\n",
    "AB Test"
   ]
  },
  {
   "cell_type": "code",
   "execution_count": null,
   "id": "3592c0ce",
   "metadata": {},
   "outputs": [],
   "source": [
    "import pandas as pd\n",
    "import requests\n",
    "\n",
    "from nocarz.api.utils import get_microservice, test_connection, create_listing_request\n",
    "from nocarz.config import PROCESSED_DATA_DIR, LOGS_DIR, HOST, PORT"
   ]
  },
  {
   "cell_type": "markdown",
   "id": "16d445e5",
   "metadata": {},
   "source": [
    "### Preparing the data"
   ]
  },
  {
   "cell_type": "code",
   "execution_count": null,
   "id": "50d0efd9",
   "metadata": {},
   "outputs": [],
   "source": [
    "test_data = pd.read_csv(PROCESSED_DATA_DIR / \"test.csv\")\n",
    "test_data.shape"
   ]
  },
  {
   "cell_type": "markdown",
   "id": "7bf0e512",
   "metadata": {},
   "source": [
    "### Running the AB Test"
   ]
  },
  {
   "cell_type": "code",
   "execution_count": null,
   "id": "b2f47ea2",
   "metadata": {},
   "outputs": [],
   "source": [
    "with get_microservice() as microservice:\n",
    "    test_connection()\n",
    "\n",
    "    for idx, row in test_data.iterrows():\n",
    "        post_data = create_listing_request(row)\n",
    "\n",
    "        try:\n",
    "            response = requests.post(f\"http://{HOST}:{PORT}/predict\", data=post_data)\n",
    "            response.raise_for_status()\n",
    "        except requests.exceptions.HTTPError as err:\n",
    "            print(f\"Error processing row {idx}: {err}\")"
   ]
  },
  {
   "cell_type": "markdown",
   "id": "6544e4a9",
   "metadata": {},
   "source": [
    "### Closing the microservice"
   ]
  },
  {
   "cell_type": "code",
   "execution_count": null,
   "id": "608d344d",
   "metadata": {},
   "outputs": [],
   "source": [
    "try:\n",
    "    test_connection()\n",
    "except Exception as e:\n",
    "    print(f\"Microservice terminated.\")\n",
    "    print(e)"
   ]
  },
  {
   "cell_type": "markdown",
   "id": "229e5e70",
   "metadata": {},
   "source": [
    "### Evaluating the results"
   ]
  },
  {
   "cell_type": "code",
   "execution_count": null,
   "id": "752fc17d",
   "metadata": {},
   "outputs": [],
   "source": [
    "logs = pd.read_csv(LOGS_DIR / \"logs.csv\")\n",
    "logs.shape"
   ]
  }
 ],
 "metadata": {
  "kernelspec": {
   "display_name": ".venv",
   "language": "python",
   "name": "python3"
  },
  "language_info": {
   "codemirror_mode": {
    "name": "ipython",
    "version": 3
   },
   "file_extension": ".py",
   "mimetype": "text/x-python",
   "name": "python",
   "nbconvert_exporter": "python",
   "pygments_lexer": "ipython3",
   "version": "3.10.12"
  }
 },
 "nbformat": 4,
 "nbformat_minor": 5
}
