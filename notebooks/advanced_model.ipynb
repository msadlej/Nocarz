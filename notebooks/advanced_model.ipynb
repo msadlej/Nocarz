{
 "cells": [
  {
   "cell_type": "code",
   "execution_count": 18,
   "id": "793f2fd1",
   "metadata": {},
   "outputs": [],
   "source": [
    "# Importy i konfiguracja\n",
    "import pandas as pd\n",
    "import numpy as np\n",
    "from nocarz.config import PROCESSED_DATA_DIR, MODELS_DIR\n",
    "from nocarz.src.advanced_model import AdvancedModel\n",
    "\n",
    "NUMERICAL_COLUMNS = ['accommodates', 'bathrooms', 'bedrooms', 'beds', 'price']\n",
    "CATEGORICAL_COLUMNS = ['property_type', 'room_type', 'bathrooms_text']"
   ]
  },
  {
   "cell_type": "code",
   "execution_count": 19,
   "id": "2cbf7c32",
   "metadata": {},
   "outputs": [
    {
     "name": "stdout",
     "output_type": "stream",
     "text": [
      "Train shape: (2205, 13)\n",
      "Test shape: (552, 13)\n"
     ]
    }
   ],
   "source": [
    "# Wczytanie danych\n",
    "train = pd.read_csv(PROCESSED_DATA_DIR / \"train.csv\")\n",
    "test = pd.read_csv(PROCESSED_DATA_DIR / \"test.csv\")\n",
    "\n",
    "\n",
    "print(\"Train shape:\", train.shape)\n",
    "print(\"Test shape:\", test.shape)\n"
   ]
  },
  {
   "cell_type": "code",
   "execution_count": 20,
   "id": "30bf1081",
   "metadata": {},
   "outputs": [],
   "source": [
    "model = AdvancedModel()\n",
    "model.fit(train)\n",
    "model.save(MODELS_DIR / \"advanced_model.pkl\")\n"
   ]
  },
  {
   "cell_type": "code",
   "execution_count": 21,
   "id": "d24bee3f",
   "metadata": {},
   "outputs": [],
   "source": [
    "model = AdvancedModel()\n",
    "model.load(MODELS_DIR / \"advanced_model.pkl\")\n"
   ]
  },
  {
   "cell_type": "code",
   "execution_count": 24,
   "id": "cafeafd9",
   "metadata": {},
   "outputs": [],
   "source": [
    "results = []\n",
    "\n",
    "for _, row in test.iterrows():\n",
    "    true_values = row.to_dict()\n",
    "    predictions = model.predict(row)\n",
    "    evaluation = model.evaluate_predictions(predictions, true_values)\n",
    "    results.append(evaluation)\n"
   ]
  },
  {
   "cell_type": "code",
   "execution_count": 25,
   "id": "459ef806",
   "metadata": {},
   "outputs": [
    {
     "name": "stdout",
     "output_type": "stream",
     "text": [
      "\n",
      "MAE - regresja (AdvancedModel vs test):\n",
      "accommodates: 0.00\n",
      "bathrooms: 0.00\n",
      "bedrooms: 0.00\n",
      "beds: 0.00\n",
      "price: 0.71\n",
      "\n",
      "Accuracy - klasyfikacja (AdvancedModel vs test):\n",
      "property_type: 65.04%\n",
      "room_type: 82.61%\n",
      "bathrooms_text: 73.37%\n"
     ]
    }
   ],
   "source": [
    "flat_results = {col: [] for col in NUMERICAL_COLUMNS + CATEGORICAL_COLUMNS}\n",
    "\n",
    "for r in results:\n",
    "    for col in r:\n",
    "        if r[col][\"type\"] == \"numerical\":\n",
    "            flat_results[col].append(r[col][\"error\"])\n",
    "        else:\n",
    "            flat_results[col].append(r[col][\"match\"])\n",
    "\n",
    "print(\"\\nMAE - regresja (AdvancedModel vs test):\")\n",
    "for col in NUMERICAL_COLUMNS:\n",
    "    mae = np.mean(flat_results[col])\n",
    "    print(f\"{col}: {mae:.2f}\")\n",
    "\n",
    "print(\"\\nAccuracy - klasyfikacja (AdvancedModel vs test):\")\n",
    "for col in CATEGORICAL_COLUMNS:\n",
    "    acc = np.mean(flat_results[col])\n",
    "    print(f\"{col}: {acc:.2%}\")"
   ]
  }
 ],
 "metadata": {
  "kernelspec": {
   "display_name": "Python 3",
   "language": "python",
   "name": "python3"
  },
  "language_info": {
   "codemirror_mode": {
    "name": "ipython",
    "version": 3
   },
   "file_extension": ".py",
   "mimetype": "text/x-python",
   "name": "python",
   "nbconvert_exporter": "python",
   "pygments_lexer": "ipython3",
   "version": "3.10.12"
  }
 },
 "nbformat": 4,
 "nbformat_minor": 5
}
